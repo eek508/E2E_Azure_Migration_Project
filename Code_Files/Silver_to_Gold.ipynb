{
 "cells": [
  {
   "cell_type": "code",
   "execution_count": 0,
   "metadata": {
    "application/vnd.databricks.v1+cell": {
     "cellMetadata": {
      "byteLimit": 2048000,
      "rowLimit": 10000
     },
     "inputWidgets": {},
     "nuid": "556da63f-2988-4c29-b31d-a2b77e4ada99",
     "showTitle": false,
     "tableResultSettingsMap": {},
     "title": ""
    }
   },
   "outputs": [],
   "source": [
    "table_name = []\n",
    "temp = []\n",
    "\n",
    "for i in dbutils.fs.ls('mnt/silver/'):\n",
    "    temp.append(i.name.split('/')[0])\n",
    "\n",
    "for i in temp:\n",
    "    table_name.append(i.split('_')[1])\n"
   ]
  },
  {
   "cell_type": "code",
   "execution_count": 0,
   "metadata": {
    "application/vnd.databricks.v1+cell": {
     "cellMetadata": {
      "byteLimit": 2048000,
      "rowLimit": 10000
     },
     "inputWidgets": {},
     "nuid": "97d71037-f78a-4a8f-b0f1-a623fb9e0db8",
     "showTitle": false,
     "tableResultSettingsMap": {},
     "title": ""
    }
   },
   "outputs": [
    {
     "output_type": "stream",
     "name": "stdout",
     "output_type": "stream",
     "text": [
      "Out[2]: ['CountryRegionCurrency',\n 'CreditCard',\n 'Currency',\n 'CurrencyRate',\n 'Customer',\n 'PersonCreditCard',\n 'SalesOrderDetail',\n 'SalesOrderHeader',\n 'SalesOrderHeaderSalesReason',\n 'SalesPerson',\n 'SalesPersonQuotaHistory',\n 'SalesReason',\n 'SalesTaxRate',\n 'SalesTerritory',\n 'SalesTerritoryHistory',\n 'ShoppingCartItem',\n 'SpecialOffer',\n 'SpecialOfferProduct',\n 'Store']"
     ]
    }
   ],
   "source": [
    "table_name"
   ]
  },
  {
   "cell_type": "code",
   "execution_count": 0,
   "metadata": {
    "application/vnd.databricks.v1+cell": {
     "cellMetadata": {
      "byteLimit": 2048000,
      "rowLimit": 10000
     },
     "inputWidgets": {},
     "nuid": "40a217f5-bb38-406f-9123-d78e5e3eb6bc",
     "showTitle": false,
     "tableResultSettingsMap": {},
     "title": ""
    }
   },
   "outputs": [],
   "source": [
    "# reading the files from the silver folder and taking all the columns of a table into a list\n",
    "for name in table_name:\n",
    "    path = '/mnt/silver/' + 'Sales_' + name\n",
    "    #print(path)\n",
    "    df = spark.read.format('delta').load(path)\n",
    "\n",
    "    column = df.columns\n",
    "\n",
    "#iterating over all the columns in the list, renaming the column with appropriate format\n",
    "    for old_col_name in column:\n",
    "        new_col_name = \"\".join([\"_\" + char if char.isupper() and not old_col_name[i-1].isupper() else char for i, char in enumerate(old_col_name)]).lstrip(\"_\")\n",
    "        df = df.withColumnRenamed(old_col_name, new_col_name)\n",
    "\n",
    "#once the transformation is done, we then upload all the files to silver layer in the delta format \n",
    "    output_path = '/mnt/gold/' + 'Sales_' + name\n",
    "    df.write.format('delta').mode(\"overwrite\").save(output_path)"
   ]
  },
  {
   "cell_type": "code",
   "execution_count": 0,
   "metadata": {
    "application/vnd.databricks.v1+cell": {
     "cellMetadata": {
      "byteLimit": 2048000,
      "rowLimit": 10000
     },
     "inputWidgets": {},
     "nuid": "e1f5b867-960f-4f20-80c0-1b6164929099",
     "showTitle": false,
     "tableResultSettingsMap": {},
     "title": ""
    }
   },
   "outputs": [
    {
     "output_type": "stream",
     "name": "stdout",
     "output_type": "stream",
     "text": [
      "+------------------+--------------------+---------------+--------------------+--------------------+-------------+\n|Business_Entity_ID|                Name|Sales_Person_ID|        Demographics|             rowguid|Modified_Date|\n+------------------+--------------------+---------------+--------------------+--------------------+-------------+\n|               292|Next-Door Bike Store|            279|<StoreSurvey xmln...|a22517e3-848d-4eb...|   2014-09-12|\n|               294|Professional Sale...|            276|<StoreSurvey xmln...|b50ca50b-c601-4a1...|   2014-09-12|\n|               296|      Riders Company|            277|<StoreSurvey xmln...|337c3688-1339-4e1...|   2014-09-12|\n|               298|  The Bike Mechanics|            275|<StoreSurvey xmln...|7894f278-f0c8-4d1...|   2014-09-12|\n|               300|   Nationwide Supply|            286|<StoreSurvey xmln...|c3fc9705-a8c4-4f3...|   2014-09-12|\n|               302|Area Bike Accesso...|            281|<StoreSurvey xmln...|368be6dd-30e5-49b...|   2014-09-12|\n|               304|Bicycle Accessori...|            283|<StoreSurvey xmln...|35f40636-5105-49d...|   2014-09-12|\n|               306|Clamps & Brackets...|            275|<StoreSurvey xmln...|64d06bfc-d060-405...|   2014-09-12|\n|               308|Valley Bicycle Sp...|            277|<StoreSurvey xmln...|59386b0c-652e-466...|   2014-09-12|\n|               310|   New Bikes Company|            279|<StoreSurvey xmln...|47e4b6bd-5cd1-45a...|   2014-09-12|\n+------------------+--------------------+---------------+--------------------+--------------------+-------------+\n\n"
     ]
    }
   ],
   "source": [
    "df.limit(10).show()"
   ]
  }
 ],
 "metadata": {
  "application/vnd.databricks.v1+notebook": {
   "computePreferences": null,
   "dashboards": [],
   "environmentMetadata": {
    "base_environment": "",
    "client": "1"
   },
   "language": "python",
   "notebookMetadata": {
    "pythonIndentUnit": 4
   },
   "notebookName": "Silver_to_Gold",
   "widgets": {}
  },
  "language_info": {
   "name": "python"
  }
 },
 "nbformat": 4,
 "nbformat_minor": 0
}