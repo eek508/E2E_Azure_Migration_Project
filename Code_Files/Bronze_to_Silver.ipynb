{
 "cells": [
  {
   "cell_type": "code",
   "execution_count": 0,
   "metadata": {
    "application/vnd.databricks.v1+cell": {
     "cellMetadata": {
      "byteLimit": 2048000,
      "rowLimit": 10000
     },
     "inputWidgets": {},
     "nuid": "6f5d6c8c-f984-4e35-922a-d42863de1a61",
     "showTitle": false,
     "tableResultSettingsMap": {},
     "title": ""
    }
   },
   "outputs": [],
   "source": [
    "table_name = []\n",
    "temp = []\n",
    "for i in dbutils.fs.ls('mnt/bronze/'):\n",
    "    temp.append(i.name.split('_')[1]) #taking the file class, filtering out the name and then splitting the file name out\n",
    "\n",
    "for i in temp:\n",
    "    table_name.append(i.split('.')[0]) # splitting just the table name from schema_table"
   ]
  },
  {
   "cell_type": "code",
   "execution_count": 0,
   "metadata": {
    "application/vnd.databricks.v1+cell": {
     "cellMetadata": {
      "byteLimit": 2048000,
      "rowLimit": 10000
     },
     "inputWidgets": {},
     "nuid": "97f9fbc4-afee-4983-9104-ff2283c75c9a",
     "showTitle": false,
     "tableResultSettingsMap": {},
     "title": ""
    }
   },
   "outputs": [
    {
     "output_type": "stream",
     "name": "stdout",
     "output_type": "stream",
     "text": [
      "Out[2]: ['CountryRegionCurrency',\n 'CreditCard',\n 'Currency',\n 'CurrencyRate',\n 'Customer',\n 'PersonCreditCard',\n 'SalesOrderDetail',\n 'SalesOrderHeader',\n 'SalesOrderHeaderSalesReason',\n 'SalesPerson',\n 'SalesPersonQuotaHistory',\n 'SalesReason',\n 'SalesTaxRate',\n 'SalesTerritory',\n 'SalesTerritoryHistory',\n 'ShoppingCartItem',\n 'SpecialOffer',\n 'SpecialOfferProduct',\n 'Store']"
     ]
    }
   ],
   "source": [
    "table_name"
   ]
  },
  {
   "cell_type": "code",
   "execution_count": 0,
   "metadata": {
    "application/vnd.databricks.v1+cell": {
     "cellMetadata": {
      "byteLimit": 2048000,
      "rowLimit": 10000
     },
     "inputWidgets": {},
     "nuid": "9dc1f71f-8d06-4248-8ff1-51a058e1a5f4",
     "showTitle": false,
     "tableResultSettingsMap": {},
     "title": ""
    }
   },
   "outputs": [],
   "source": [
    "from pyspark.sql.functions import from_utc_timestamp, date_format\n",
    "from pyspark.sql.types import TimestampType\n",
    "\n",
    "# reading the files from the bronze folder and taking all the columns of a table into a list\n",
    "for i in table_name:\n",
    "    path = '/mnt/bronze/' + 'Sales_' + i + '.parquet'\n",
    "    df = spark.read.format('parquet').load(path)\n",
    "    column = df.columns\n",
    "\n",
    "#iterating over all the columns in the list, if the column contains the keyword date, we change the format to yyyy-mm-dd\n",
    "    for col in column:\n",
    "        if \"Date\" in col or \"date\" in col:\n",
    "            df = df.withColumn(col,date_format(from_utc_timestamp(df[col].cast(TimestampType()),\"UTC\"), \"yyyy-MM-dd\"))\n",
    "            #df = df.withColumn(\"ModifiedDate\",date_format(from_utc_timestamp(df[\"ModifiedDate\"].cast(TimestampType()),\"UTC\"),\"yyyy-MM-dd\"))\n",
    "\n",
    "#once the transformation is done, we then upload all the files to silver layer in the delta format                                                                  \n",
    "    output_path = '/mnt/silver/' + 'Sales_' + i\n",
    "    df.write.format('delta').mode(\"overwrite\").save(output_path)"
   ]
  },
  {
   "cell_type": "code",
   "execution_count": 0,
   "metadata": {
    "application/vnd.databricks.v1+cell": {
     "cellMetadata": {
      "byteLimit": 2048000,
      "rowLimit": 10000
     },
     "inputWidgets": {},
     "nuid": "8d00cdb9-e2ba-441b-9481-6297fb33c575",
     "showTitle": false,
     "tableResultSettingsMap": {},
     "title": ""
    }
   },
   "outputs": [
    {
     "output_type": "stream",
     "name": "stdout",
     "output_type": "stream",
     "text": [
      "+----------------+--------------------+-------------+--------------------+--------------------+------------+\n|BusinessEntityID|                Name|SalesPersonID|        Demographics|             rowguid|ModifiedDate|\n+----------------+--------------------+-------------+--------------------+--------------------+------------+\n|             292|Next-Door Bike Store|          279|<StoreSurvey xmln...|a22517e3-848d-4eb...|  2014-09-12|\n|             294|Professional Sale...|          276|<StoreSurvey xmln...|b50ca50b-c601-4a1...|  2014-09-12|\n|             296|      Riders Company|          277|<StoreSurvey xmln...|337c3688-1339-4e1...|  2014-09-12|\n|             298|  The Bike Mechanics|          275|<StoreSurvey xmln...|7894f278-f0c8-4d1...|  2014-09-12|\n|             300|   Nationwide Supply|          286|<StoreSurvey xmln...|c3fc9705-a8c4-4f3...|  2014-09-12|\n|             302|Area Bike Accesso...|          281|<StoreSurvey xmln...|368be6dd-30e5-49b...|  2014-09-12|\n|             304|Bicycle Accessori...|          283|<StoreSurvey xmln...|35f40636-5105-49d...|  2014-09-12|\n|             306|Clamps & Brackets...|          275|<StoreSurvey xmln...|64d06bfc-d060-405...|  2014-09-12|\n|             308|Valley Bicycle Sp...|          277|<StoreSurvey xmln...|59386b0c-652e-466...|  2014-09-12|\n|             310|   New Bikes Company|          279|<StoreSurvey xmln...|47e4b6bd-5cd1-45a...|  2014-09-12|\n+----------------+--------------------+-------------+--------------------+--------------------+------------+\n\n"
     ]
    }
   ],
   "source": [
    "df.limit(10).show() "
   ]
  }
 ],
 "metadata": {
  "application/vnd.databricks.v1+notebook": {
   "computePreferences": null,
   "dashboards": [],
   "environmentMetadata": {
    "base_environment": "",
    "client": "1"
   },
   "language": "python",
   "notebookMetadata": {
    "pythonIndentUnit": 4
   },
   "notebookName": "Bronze_to_Silver",
   "widgets": {}
  },
  "language_info": {
   "name": "python"
  }
 },
 "nbformat": 4,
 "nbformat_minor": 0
}